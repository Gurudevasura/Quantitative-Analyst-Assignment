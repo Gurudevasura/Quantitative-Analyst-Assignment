{
  "cells": [
    {
      "cell_type": "markdown",
      "metadata": {
        "id": "view-in-github",
        "colab_type": "text"
      },
      "source": [
        "<a href=\"https://colab.research.google.com/github/Gurudevasura/Quantitative-Analyst-Assignment/blob/main/Assignment_1_.ipynb\" target=\"_parent\"><img src=\"https://colab.research.google.com/assets/colab-badge.svg\" alt=\"Open In Colab\"/></a>"
      ]
    },
    {
      "cell_type": "markdown",
      "metadata": {
        "id": "EZ81d1GvumUv"
      },
      "source": [
        "# IMPORT Dependencies"
      ]
    },
    {
      "cell_type": "code",
      "execution_count": 62,
      "metadata": {
        "id": "2gr0ScKruh_y"
      },
      "outputs": [],
      "source": [
        "import pandas as pd\n",
        "import os\n",
        "from zipfile import ZipFile"
      ]
    },
    {
      "cell_type": "code",
      "source": [
        "from glob import glob\n",
        "files = glob(\"/content/sample_data/*.zip\" )"
      ],
      "metadata": {
        "id": "MHYmABmujO2d"
      },
      "execution_count": 63,
      "outputs": []
    },
    {
      "cell_type": "code",
      "source": [
        "files.sort()\n",
        "files"
      ],
      "metadata": {
        "colab": {
          "base_uri": "https://localhost:8080/"
        },
        "id": "f1UwEFU7oyFM",
        "outputId": "d1d45a82-e299-4cfc-e33d-763333247988"
      },
      "execution_count": 64,
      "outputs": [
        {
          "output_type": "execute_result",
          "data": {
            "text/plain": [
              "['/content/sample_data/BTCUSDT-trades-2022-03-01.zip',\n",
              " '/content/sample_data/BTCUSDT-trades-2022-03-02.zip',\n",
              " '/content/sample_data/BTCUSDT-trades-2022-03-03.zip']"
            ]
          },
          "metadata": {},
          "execution_count": 64
        }
      ]
    },
    {
      "cell_type": "code",
      "source": [
        "df = pd.concat( (pd.read_csv(file , names=['S.num','Traded Price','Traded Size','Traded Notional','Timestamp','b1','b2'])for file in files), ignore_index=True)\n",
        "df.drop(['S.num','b1','b2'], axis=1,inplace=True)\n",
        "df"
      ],
      "metadata": {
        "colab": {
          "base_uri": "https://localhost:8080/",
          "height": 423
        },
        "id": "ib_EZ8PjpidI",
        "outputId": "e0de7c42-43c3-46e9-b326-ff7025409cd6"
      },
      "execution_count": 65,
      "outputs": [
        {
          "output_type": "execute_result",
          "data": {
            "text/plain": [
              "         Traded Price  Traded Size  Traded Notional      Timestamp\n",
              "0            43160.00      0.00056        24.169600  1646092800000\n",
              "1            43160.01      0.00052        22.443205  1646092800003\n",
              "2            43160.01      0.00182        78.551218  1646092800004\n",
              "3            43160.01      0.00631       272.339663  1646092800005\n",
              "4            43160.00      0.00229        98.836400  1646092800006\n",
              "...               ...          ...              ...            ...\n",
              "4809317      42454.01      0.00124        52.642972  1646351999996\n",
              "4809318      42454.00      0.00257       109.106780  1646351999996\n",
              "4809319      42454.01      0.00054        22.925165  1646351999997\n",
              "4809320      42454.01      0.00198        84.058940  1646351999997\n",
              "4809321      42454.00      0.00052        22.076080  1646351999999\n",
              "\n",
              "[4809322 rows x 4 columns]"
            ],
            "text/html": [
              "\n",
              "  <div id=\"df-eb2a0077-20be-4299-9e9c-9e388564a734\">\n",
              "    <div class=\"colab-df-container\">\n",
              "      <div>\n",
              "<style scoped>\n",
              "    .dataframe tbody tr th:only-of-type {\n",
              "        vertical-align: middle;\n",
              "    }\n",
              "\n",
              "    .dataframe tbody tr th {\n",
              "        vertical-align: top;\n",
              "    }\n",
              "\n",
              "    .dataframe thead th {\n",
              "        text-align: right;\n",
              "    }\n",
              "</style>\n",
              "<table border=\"1\" class=\"dataframe\">\n",
              "  <thead>\n",
              "    <tr style=\"text-align: right;\">\n",
              "      <th></th>\n",
              "      <th>Traded Price</th>\n",
              "      <th>Traded Size</th>\n",
              "      <th>Traded Notional</th>\n",
              "      <th>Timestamp</th>\n",
              "    </tr>\n",
              "  </thead>\n",
              "  <tbody>\n",
              "    <tr>\n",
              "      <th>0</th>\n",
              "      <td>43160.00</td>\n",
              "      <td>0.00056</td>\n",
              "      <td>24.169600</td>\n",
              "      <td>1646092800000</td>\n",
              "    </tr>\n",
              "    <tr>\n",
              "      <th>1</th>\n",
              "      <td>43160.01</td>\n",
              "      <td>0.00052</td>\n",
              "      <td>22.443205</td>\n",
              "      <td>1646092800003</td>\n",
              "    </tr>\n",
              "    <tr>\n",
              "      <th>2</th>\n",
              "      <td>43160.01</td>\n",
              "      <td>0.00182</td>\n",
              "      <td>78.551218</td>\n",
              "      <td>1646092800004</td>\n",
              "    </tr>\n",
              "    <tr>\n",
              "      <th>3</th>\n",
              "      <td>43160.01</td>\n",
              "      <td>0.00631</td>\n",
              "      <td>272.339663</td>\n",
              "      <td>1646092800005</td>\n",
              "    </tr>\n",
              "    <tr>\n",
              "      <th>4</th>\n",
              "      <td>43160.00</td>\n",
              "      <td>0.00229</td>\n",
              "      <td>98.836400</td>\n",
              "      <td>1646092800006</td>\n",
              "    </tr>\n",
              "    <tr>\n",
              "      <th>...</th>\n",
              "      <td>...</td>\n",
              "      <td>...</td>\n",
              "      <td>...</td>\n",
              "      <td>...</td>\n",
              "    </tr>\n",
              "    <tr>\n",
              "      <th>4809317</th>\n",
              "      <td>42454.01</td>\n",
              "      <td>0.00124</td>\n",
              "      <td>52.642972</td>\n",
              "      <td>1646351999996</td>\n",
              "    </tr>\n",
              "    <tr>\n",
              "      <th>4809318</th>\n",
              "      <td>42454.00</td>\n",
              "      <td>0.00257</td>\n",
              "      <td>109.106780</td>\n",
              "      <td>1646351999996</td>\n",
              "    </tr>\n",
              "    <tr>\n",
              "      <th>4809319</th>\n",
              "      <td>42454.01</td>\n",
              "      <td>0.00054</td>\n",
              "      <td>22.925165</td>\n",
              "      <td>1646351999997</td>\n",
              "    </tr>\n",
              "    <tr>\n",
              "      <th>4809320</th>\n",
              "      <td>42454.01</td>\n",
              "      <td>0.00198</td>\n",
              "      <td>84.058940</td>\n",
              "      <td>1646351999997</td>\n",
              "    </tr>\n",
              "    <tr>\n",
              "      <th>4809321</th>\n",
              "      <td>42454.00</td>\n",
              "      <td>0.00052</td>\n",
              "      <td>22.076080</td>\n",
              "      <td>1646351999999</td>\n",
              "    </tr>\n",
              "  </tbody>\n",
              "</table>\n",
              "<p>4809322 rows × 4 columns</p>\n",
              "</div>\n",
              "      <button class=\"colab-df-convert\" onclick=\"convertToInteractive('df-eb2a0077-20be-4299-9e9c-9e388564a734')\"\n",
              "              title=\"Convert this dataframe to an interactive table.\"\n",
              "              style=\"display:none;\">\n",
              "        \n",
              "  <svg xmlns=\"http://www.w3.org/2000/svg\" height=\"24px\"viewBox=\"0 0 24 24\"\n",
              "       width=\"24px\">\n",
              "    <path d=\"M0 0h24v24H0V0z\" fill=\"none\"/>\n",
              "    <path d=\"M18.56 5.44l.94 2.06.94-2.06 2.06-.94-2.06-.94-.94-2.06-.94 2.06-2.06.94zm-11 1L8.5 8.5l.94-2.06 2.06-.94-2.06-.94L8.5 2.5l-.94 2.06-2.06.94zm10 10l.94 2.06.94-2.06 2.06-.94-2.06-.94-.94-2.06-.94 2.06-2.06.94z\"/><path d=\"M17.41 7.96l-1.37-1.37c-.4-.4-.92-.59-1.43-.59-.52 0-1.04.2-1.43.59L10.3 9.45l-7.72 7.72c-.78.78-.78 2.05 0 2.83L4 21.41c.39.39.9.59 1.41.59.51 0 1.02-.2 1.41-.59l7.78-7.78 2.81-2.81c.8-.78.8-2.07 0-2.86zM5.41 20L4 18.59l7.72-7.72 1.47 1.35L5.41 20z\"/>\n",
              "  </svg>\n",
              "      </button>\n",
              "      \n",
              "  <style>\n",
              "    .colab-df-container {\n",
              "      display:flex;\n",
              "      flex-wrap:wrap;\n",
              "      gap: 12px;\n",
              "    }\n",
              "\n",
              "    .colab-df-convert {\n",
              "      background-color: #E8F0FE;\n",
              "      border: none;\n",
              "      border-radius: 50%;\n",
              "      cursor: pointer;\n",
              "      display: none;\n",
              "      fill: #1967D2;\n",
              "      height: 32px;\n",
              "      padding: 0 0 0 0;\n",
              "      width: 32px;\n",
              "    }\n",
              "\n",
              "    .colab-df-convert:hover {\n",
              "      background-color: #E2EBFA;\n",
              "      box-shadow: 0px 1px 2px rgba(60, 64, 67, 0.3), 0px 1px 3px 1px rgba(60, 64, 67, 0.15);\n",
              "      fill: #174EA6;\n",
              "    }\n",
              "\n",
              "    [theme=dark] .colab-df-convert {\n",
              "      background-color: #3B4455;\n",
              "      fill: #D2E3FC;\n",
              "    }\n",
              "\n",
              "    [theme=dark] .colab-df-convert:hover {\n",
              "      background-color: #434B5C;\n",
              "      box-shadow: 0px 1px 3px 1px rgba(0, 0, 0, 0.15);\n",
              "      filter: drop-shadow(0px 1px 2px rgba(0, 0, 0, 0.3));\n",
              "      fill: #FFFFFF;\n",
              "    }\n",
              "  </style>\n",
              "\n",
              "      <script>\n",
              "        const buttonEl =\n",
              "          document.querySelector('#df-eb2a0077-20be-4299-9e9c-9e388564a734 button.colab-df-convert');\n",
              "        buttonEl.style.display =\n",
              "          google.colab.kernel.accessAllowed ? 'block' : 'none';\n",
              "\n",
              "        async function convertToInteractive(key) {\n",
              "          const element = document.querySelector('#df-eb2a0077-20be-4299-9e9c-9e388564a734');\n",
              "          const dataTable =\n",
              "            await google.colab.kernel.invokeFunction('convertToInteractive',\n",
              "                                                     [key], {});\n",
              "          if (!dataTable) return;\n",
              "\n",
              "          const docLinkHtml = 'Like what you see? Visit the ' +\n",
              "            '<a target=\"_blank\" href=https://colab.research.google.com/notebooks/data_table.ipynb>data table notebook</a>'\n",
              "            + ' to learn more about interactive tables.';\n",
              "          element.innerHTML = '';\n",
              "          dataTable['output_type'] = 'display_data';\n",
              "          await google.colab.output.renderOutput(dataTable, element);\n",
              "          const docLink = document.createElement('div');\n",
              "          docLink.innerHTML = docLinkHtml;\n",
              "          element.appendChild(docLink);\n",
              "        }\n",
              "      </script>\n",
              "    </div>\n",
              "  </div>\n",
              "  "
            ]
          },
          "metadata": {},
          "execution_count": 65
        }
      ]
    }
  ],
  "metadata": {
    "colab": {
      "name": "Assignment 1 .ipynb",
      "provenance": [],
      "authorship_tag": "ABX9TyPly/LR6BAPCiUf5cm2bxd5",
      "include_colab_link": true
    },
    "kernelspec": {
      "display_name": "Python 3",
      "name": "python3"
    },
    "language_info": {
      "name": "python"
    }
  },
  "nbformat": 4,
  "nbformat_minor": 0
}