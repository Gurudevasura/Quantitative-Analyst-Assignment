{
  "nbformat": 4,
  "nbformat_minor": 0,
  "metadata": {
    "colab": {
      "name": "Assignment03.ipynb",
      "provenance": [],
      "authorship_tag": "ABX9TyOWA33GHOt9pxhlNyCcTz8H",
      "include_colab_link": true
    },
    "kernelspec": {
      "name": "python3",
      "display_name": "Python 3"
    },
    "language_info": {
      "name": "python"
    }
  },
  "cells": [
    {
      "cell_type": "markdown",
      "metadata": {
        "id": "view-in-github",
        "colab_type": "text"
      },
      "source": [
        "<a href=\"https://colab.research.google.com/github/Gurudevasura/Quantitative-Analyst-Assignment/blob/main/Assignment03.ipynb\" target=\"_parent\"><img src=\"https://colab.research.google.com/assets/colab-badge.svg\" alt=\"Open In Colab\"/></a>"
      ]
    },
    {
      "cell_type": "code",
      "execution_count": 1,
      "metadata": {
        "colab": {
          "base_uri": "https://localhost:8080/"
        },
        "id": "yyt9Yo5HrxGG",
        "outputId": "bbb0b116-ef3a-4ed3-cda7-487246d2f289"
      },
      "outputs": [
        {
          "output_type": "stream",
          "name": "stdout",
          "text": [
            "Collecting backtrader\n",
            "  Downloading backtrader-1.9.76.123-py2.py3-none-any.whl (410 kB)\n",
            "\u001b[?25l\r\u001b[K     |▉                               | 10 kB 20.2 MB/s eta 0:00:01\r\u001b[K     |█▋                              | 20 kB 21.4 MB/s eta 0:00:01\r\u001b[K     |██▍                             | 30 kB 20.3 MB/s eta 0:00:01\r\u001b[K     |███▏                            | 40 kB 16.6 MB/s eta 0:00:01\r\u001b[K     |████                            | 51 kB 7.0 MB/s eta 0:00:01\r\u001b[K     |████▉                           | 61 kB 8.2 MB/s eta 0:00:01\r\u001b[K     |█████▋                          | 71 kB 9.3 MB/s eta 0:00:01\r\u001b[K     |██████▍                         | 81 kB 9.2 MB/s eta 0:00:01\r\u001b[K     |███████▏                        | 92 kB 10.1 MB/s eta 0:00:01\r\u001b[K     |████████                        | 102 kB 8.3 MB/s eta 0:00:01\r\u001b[K     |████████▉                       | 112 kB 8.3 MB/s eta 0:00:01\r\u001b[K     |█████████▋                      | 122 kB 8.3 MB/s eta 0:00:01\r\u001b[K     |██████████▍                     | 133 kB 8.3 MB/s eta 0:00:01\r\u001b[K     |███████████▏                    | 143 kB 8.3 MB/s eta 0:00:01\r\u001b[K     |████████████                    | 153 kB 8.3 MB/s eta 0:00:01\r\u001b[K     |████████████▉                   | 163 kB 8.3 MB/s eta 0:00:01\r\u001b[K     |█████████████▋                  | 174 kB 8.3 MB/s eta 0:00:01\r\u001b[K     |██████████████▍                 | 184 kB 8.3 MB/s eta 0:00:01\r\u001b[K     |███████████████▏                | 194 kB 8.3 MB/s eta 0:00:01\r\u001b[K     |████████████████                | 204 kB 8.3 MB/s eta 0:00:01\r\u001b[K     |████████████████▉               | 215 kB 8.3 MB/s eta 0:00:01\r\u001b[K     |█████████████████▋              | 225 kB 8.3 MB/s eta 0:00:01\r\u001b[K     |██████████████████▍             | 235 kB 8.3 MB/s eta 0:00:01\r\u001b[K     |███████████████████▏            | 245 kB 8.3 MB/s eta 0:00:01\r\u001b[K     |████████████████████            | 256 kB 8.3 MB/s eta 0:00:01\r\u001b[K     |████████████████████▊           | 266 kB 8.3 MB/s eta 0:00:01\r\u001b[K     |█████████████████████▋          | 276 kB 8.3 MB/s eta 0:00:01\r\u001b[K     |██████████████████████▍         | 286 kB 8.3 MB/s eta 0:00:01\r\u001b[K     |███████████████████████▏        | 296 kB 8.3 MB/s eta 0:00:01\r\u001b[K     |████████████████████████        | 307 kB 8.3 MB/s eta 0:00:01\r\u001b[K     |████████████████████████▊       | 317 kB 8.3 MB/s eta 0:00:01\r\u001b[K     |█████████████████████████▋      | 327 kB 8.3 MB/s eta 0:00:01\r\u001b[K     |██████████████████████████▍     | 337 kB 8.3 MB/s eta 0:00:01\r\u001b[K     |███████████████████████████▏    | 348 kB 8.3 MB/s eta 0:00:01\r\u001b[K     |████████████████████████████    | 358 kB 8.3 MB/s eta 0:00:01\r\u001b[K     |████████████████████████████▊   | 368 kB 8.3 MB/s eta 0:00:01\r\u001b[K     |█████████████████████████████▋  | 378 kB 8.3 MB/s eta 0:00:01\r\u001b[K     |██████████████████████████████▍ | 389 kB 8.3 MB/s eta 0:00:01\r\u001b[K     |███████████████████████████████▏| 399 kB 8.3 MB/s eta 0:00:01\r\u001b[K     |████████████████████████████████| 409 kB 8.3 MB/s eta 0:00:01\r\u001b[K     |████████████████████████████████| 410 kB 8.3 MB/s \n",
            "\u001b[?25hInstalling collected packages: backtrader\n",
            "Successfully installed backtrader-1.9.76.123\n"
          ]
        }
      ],
      "source": [
        "!pip install backtrader"
      ]
    },
    {
      "cell_type": "code",
      "source": [
        "import backtrader as bt\n",
        "import backtrader.analyzers as btanalyzers\n",
        "import matplotlib.pyplot as plt\n",
        "from datetime import datetime\n",
        "import time\n",
        "import backtrader.feeds as btfeeds\n",
        "import backtrader.trade as btt\n",
        "import pandas as pd"
      ],
      "metadata": {
        "id": "QCZjhQq2sIOt"
      },
      "execution_count": 2,
      "outputs": []
    },
    {
      "cell_type": "code",
      "source": [
        "cerebro = bt.Cerebro()"
      ],
      "metadata": {
        "id": "VThDLOc3sPoT"
      },
      "execution_count": 4,
      "outputs": []
    },
    {
      "cell_type": "code",
      "source": [
        "#TradeAnalyer\n",
        "'''Provides statistics on closed trades (keeps also the count of open ones)\n",
        "\n",
        "Total Open/Closed Trades\n",
        "\n",
        "Streak Won/Lost Current/Longest\n",
        "\n",
        "ProfitAndLoss Total/Average\n",
        "\n",
        "Won/Lost Count/ Total PNL/ Average PNL / Max PNL\n",
        "\n",
        "Long/Short Count/ Total PNL / Average PNL / Max PNL\n",
        "\n",
        "Won/Lost Count/ Total PNL/ Average PNL / Max PNL\n",
        "Length (bars in the market)\n",
        "\n",
        "Total/Average/Max/Min\n",
        "\n",
        "Won/Lost Total/Average/Max/Min\n",
        "\n",
        "Long/Short Total/Average/Max/Min\n",
        "\n",
        "Won/Lost Total/Average/Max/Min'''\n",
        "\n",
        "\n",
        "class btanalyzers.TradeAnalyer()\n",
        "\n"
      ],
      "metadata": {
        "colab": {
          "base_uri": "https://localhost:8080/",
          "height": 217
        },
        "id": "pXw5fvTCsk4h",
        "outputId": "f302351e-8fda-4431-d567-00ba03fcc37c"
      },
      "execution_count": 5,
      "outputs": [
        {
          "output_type": "error",
          "ename": "AttributeError",
          "evalue": "ignored",
          "traceback": [
            "\u001b[0;31m---------------------------------------------------------------------------\u001b[0m",
            "\u001b[0;31mAttributeError\u001b[0m                            Traceback (most recent call last)",
            "\u001b[0;32m<ipython-input-5-3fec39943d03>\u001b[0m in \u001b[0;36m<module>\u001b[0;34m()\u001b[0m\n\u001b[1;32m     24\u001b[0m \u001b[0;34m\u001b[0m\u001b[0m\n\u001b[1;32m     25\u001b[0m \u001b[0;34m\u001b[0m\u001b[0m\n\u001b[0;32m---> 26\u001b[0;31m \u001b[0mcerebro\u001b[0m\u001b[0;34m.\u001b[0m\u001b[0mbtanalyzers\u001b[0m\u001b[0;34m.\u001b[0m\u001b[0mTradeAnalyer\u001b[0m\u001b[0;34m(\u001b[0m\u001b[0;34m)\u001b[0m\u001b[0;34m\u001b[0m\u001b[0;34m\u001b[0m\u001b[0m\n\u001b[0m\u001b[1;32m     27\u001b[0m \u001b[0;34m\u001b[0m\u001b[0m\n",
            "\u001b[0;31mAttributeError\u001b[0m: 'Cerebro' object has no attribute 'btanalyzers'"
          ]
        }
      ]
    },
    {
      "cell_type": "code",
      "source": [
        "back =cerebro.run()\n",
        "back"
      ],
      "metadata": {
        "id": "A1xd95wsuDhu"
      },
      "execution_count": null,
      "outputs": []
    }
  ]
}