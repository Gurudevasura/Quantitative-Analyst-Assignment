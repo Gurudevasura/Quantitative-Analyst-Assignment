{
  "nbformat": 4,
  "nbformat_minor": 0,
  "metadata": {
    "colab": {
      "name": "Asssignment02.ipynb",
      "provenance": [],
      "collapsed_sections": [],
      "mount_file_id": "1PKzxzl2z-DVsuFj29lSA05Z2w-yG3xRe",
      "authorship_tag": "ABX9TyOBiPO9v8uOgf2wCuUvDUar",
      "include_colab_link": true
    },
    "kernelspec": {
      "name": "python3",
      "display_name": "Python 3"
    },
    "language_info": {
      "name": "python"
    }
  },
  "cells": [
    {
      "cell_type": "markdown",
      "metadata": {
        "id": "view-in-github",
        "colab_type": "text"
      },
      "source": [
        "<a href=\"https://colab.research.google.com/github/Gurudevasura/Quantitative-Analyst-Assignment/blob/main/Asssignment02.ipynb\" target=\"_parent\"><img src=\"https://colab.research.google.com/assets/colab-badge.svg\" alt=\"Open In Colab\"/></a>"
      ]
    },
    {
      "cell_type": "code",
      "execution_count": 1,
      "metadata": {
        "id": "DM5XZX9NoO1e",
        "colab": {
          "base_uri": "https://localhost:8080/"
        },
        "outputId": "740127b9-15ff-4e90-a5d3-8088be9257f9"
      },
      "outputs": [
        {
          "output_type": "stream",
          "name": "stdout",
          "text": [
            "Collecting backtrader\n",
            "  Downloading backtrader-1.9.76.123-py2.py3-none-any.whl (410 kB)\n",
            "\u001b[?25l\r\u001b[K     |▉                               | 10 kB 23.3 MB/s eta 0:00:01\r\u001b[K     |█▋                              | 20 kB 29.7 MB/s eta 0:00:01\r\u001b[K     |██▍                             | 30 kB 15.3 MB/s eta 0:00:01\r\u001b[K     |███▏                            | 40 kB 10.8 MB/s eta 0:00:01\r\u001b[K     |████                            | 51 kB 8.1 MB/s eta 0:00:01\r\u001b[K     |████▉                           | 61 kB 9.6 MB/s eta 0:00:01\r\u001b[K     |█████▋                          | 71 kB 9.7 MB/s eta 0:00:01\r\u001b[K     |██████▍                         | 81 kB 8.0 MB/s eta 0:00:01\r\u001b[K     |███████▏                        | 92 kB 8.8 MB/s eta 0:00:01\r\u001b[K     |████████                        | 102 kB 9.0 MB/s eta 0:00:01\r\u001b[K     |████████▉                       | 112 kB 9.0 MB/s eta 0:00:01\r\u001b[K     |█████████▋                      | 122 kB 9.0 MB/s eta 0:00:01\r\u001b[K     |██████████▍                     | 133 kB 9.0 MB/s eta 0:00:01\r\u001b[K     |███████████▏                    | 143 kB 9.0 MB/s eta 0:00:01\r\u001b[K     |████████████                    | 153 kB 9.0 MB/s eta 0:00:01\r\u001b[K     |████████████▉                   | 163 kB 9.0 MB/s eta 0:00:01\r\u001b[K     |█████████████▋                  | 174 kB 9.0 MB/s eta 0:00:01\r\u001b[K     |██████████████▍                 | 184 kB 9.0 MB/s eta 0:00:01\r\u001b[K     |███████████████▏                | 194 kB 9.0 MB/s eta 0:00:01\r\u001b[K     |████████████████                | 204 kB 9.0 MB/s eta 0:00:01\r\u001b[K     |████████████████▉               | 215 kB 9.0 MB/s eta 0:00:01\r\u001b[K     |█████████████████▋              | 225 kB 9.0 MB/s eta 0:00:01\r\u001b[K     |██████████████████▍             | 235 kB 9.0 MB/s eta 0:00:01\r\u001b[K     |███████████████████▏            | 245 kB 9.0 MB/s eta 0:00:01\r\u001b[K     |████████████████████            | 256 kB 9.0 MB/s eta 0:00:01\r\u001b[K     |████████████████████▊           | 266 kB 9.0 MB/s eta 0:00:01\r\u001b[K     |█████████████████████▋          | 276 kB 9.0 MB/s eta 0:00:01\r\u001b[K     |██████████████████████▍         | 286 kB 9.0 MB/s eta 0:00:01\r\u001b[K     |███████████████████████▏        | 296 kB 9.0 MB/s eta 0:00:01\r\u001b[K     |████████████████████████        | 307 kB 9.0 MB/s eta 0:00:01\r\u001b[K     |████████████████████████▊       | 317 kB 9.0 MB/s eta 0:00:01\r\u001b[K     |█████████████████████████▋      | 327 kB 9.0 MB/s eta 0:00:01\r\u001b[K     |██████████████████████████▍     | 337 kB 9.0 MB/s eta 0:00:01\r\u001b[K     |███████████████████████████▏    | 348 kB 9.0 MB/s eta 0:00:01\r\u001b[K     |████████████████████████████    | 358 kB 9.0 MB/s eta 0:00:01\r\u001b[K     |████████████████████████████▊   | 368 kB 9.0 MB/s eta 0:00:01\r\u001b[K     |█████████████████████████████▋  | 378 kB 9.0 MB/s eta 0:00:01\r\u001b[K     |██████████████████████████████▍ | 389 kB 9.0 MB/s eta 0:00:01\r\u001b[K     |███████████████████████████████▏| 399 kB 9.0 MB/s eta 0:00:01\r\u001b[K     |████████████████████████████████| 409 kB 9.0 MB/s eta 0:00:01\r\u001b[K     |████████████████████████████████| 410 kB 9.0 MB/s \n",
            "\u001b[?25hInstalling collected packages: backtrader\n",
            "Successfully installed backtrader-1.9.76.123\n"
          ]
        }
      ],
      "source": [
        "!pip install backtrader"
      ]
    },
    {
      "cell_type": "code",
      "source": [
        "import backtrader as bt\n",
        "import backtrader.analyzers as btanalyzers\n",
        "import matplotlib.pyplot as plt\n",
        "from datetime import datetime\n",
        "import time\n",
        "import backtrader.feeds as btfeeds"
      ],
      "metadata": {
        "id": "nZ5sjqDDosL4"
      },
      "execution_count": 6,
      "outputs": []
    },
    {
      "cell_type": "code",
      "source": [
        ""
      ],
      "metadata": {
        "id": "g7yW8KJ_pdC_"
      },
      "execution_count": null,
      "outputs": []
    },
    {
      "cell_type": "code",
      "source": [
        "cerebro = bt.Cerebro()\n",
        "data = bt.feeds.PandasData()\n",
        "cerebro.adddata(data)\n",
        "\n",
        "cerebro.addstrategy()\n",
        "cerebro.broker.setcash(10000.0)\n",
        "cerebro.addsizer(bt.sizers.PercentSizer, percents = 50 )\n",
        "\n",
        "class backtrader.trade.Trade(data=None, tradeid=0, historyon=False, size=0, price=0.0, value=0.0, commission=0.0)\n",
        "class backtrader.position.Position(size=0, price=0.0)\n",
        "\n",
        "cerebro.broker.setcommission(0.00)\n",
        "cerebro.run()\n",
        "print('Final Portfolio Value: %.2f' % cerebro.broker.getvalue()) "
      ],
      "metadata": {
        "id": "rRYibzuhphz8"
      },
      "execution_count": null,
      "outputs": []
    },
    {
      "cell_type": "code",
      "source": [
        "class MaCrossStrategy(bt.Strategy):\n",
        "     def _init_(self):\n",
        "       ma_fast = bt.ind.SMA(period =10)\n",
        "       ma_slow = bt.ind.SMA(period =50)\n",
        "\n",
        "       self.Crossover = bt.ind.CrossOver(ma_fast, ma_slow)\n",
        "\n",
        "\n",
        "     def next(self):\n",
        "        if not self.position:\n",
        "          if self.crossover > 0:\n",
        "                self.buy()\n",
        "          elif self.crossover < 0: \n",
        "                self.close()   \n",
        "\n",
        "\n"
      ],
      "metadata": {
        "id": "3xi51QrQ3Glr"
      },
      "execution_count": 9,
      "outputs": []
    },
    {
      "cell_type": "code",
      "source": [
        "cerebro = bt.Cerebro()"
      ],
      "metadata": {
        "id": "Mh0dzgSJ48CR"
      },
      "execution_count": 10,
      "outputs": []
    },
    {
      "cell_type": "code",
      "source": [
        "data = btfeeds.GenericCSVData(\n",
        "    dataname='/content/drive/MyDrive/Colab Notebooks/worth2.csv',\n",
        "\n",
        "    nullvalue=0.0,\n",
        "\n",
        "   dt_format = lambda d: pd.to_datetime(d, format='%Y%m%d-%H%M%S')\n",
        "    \n",
        "    datetime = 7, \n",
        "    time=-1,\n",
        "    high=-1,\n",
        "    low=-1,\n",
        "    open=-1,\n",
        "    close=-1,\n",
        "    volume=2,\n",
        "    openinterest=-1\n",
        ")\n",
        "cerebro.adddata(data) "
      ],
      "metadata": {
        "colab": {
          "base_uri": "https://localhost:8080/",
          "height": 130
        },
        "id": "Uhs9qZkb9VIk",
        "outputId": "50cf55fa-da24-439c-b2a3-944dd37ffcdf"
      },
      "execution_count": 48,
      "outputs": [
        {
          "output_type": "error",
          "ename": "SyntaxError",
          "evalue": "ignored",
          "traceback": [
            "\u001b[0;36m  File \u001b[0;32m\"<ipython-input-48-5c6c1527c2b8>\"\u001b[0;36m, line \u001b[0;32m8\u001b[0m\n\u001b[0;31m    datetime =7,\u001b[0m\n\u001b[0m           ^\u001b[0m\n\u001b[0;31mSyntaxError\u001b[0m\u001b[0;31m:\u001b[0m invalid syntax\n"
          ]
        }
      ]
    },
    {
      "cell_type": "code",
      "source": [
        "cerebro.addstrategy(MaCrossStrategy)"
      ],
      "metadata": {
        "colab": {
          "base_uri": "https://localhost:8080/"
        },
        "id": "daWnlwFc_PlU",
        "outputId": "b8483a30-5cb8-4596-fe82-cbd63a717192"
      },
      "execution_count": 14,
      "outputs": [
        {
          "output_type": "execute_result",
          "data": {
            "text/plain": [
              "0"
            ]
          },
          "metadata": {},
          "execution_count": 14
        }
      ]
    },
    {
      "cell_type": "code",
      "source": [
        "cerebro.broker.setcash(100000.0)"
      ],
      "metadata": {
        "id": "SZT2M2Lr_5Kz"
      },
      "execution_count": 15,
      "outputs": []
    },
    {
      "cell_type": "code",
      "source": [
        "cerebro.addsizer(bt.sizers.PercentSizer, percents = 10)"
      ],
      "metadata": {
        "id": "Q-QK2fFV__TW"
      },
      "execution_count": 17,
      "outputs": []
    },
    {
      "cell_type": "code",
      "source": [
        "cerebro.run()"
      ],
      "metadata": {
        "colab": {
          "base_uri": "https://localhost:8080/",
          "height": 310
        },
        "id": "lAqtcJzXBIkh",
        "outputId": "6781bd6c-b4a3-4fa8-9713-ac0f5db831db"
      },
      "execution_count": 44,
      "outputs": [
        {
          "output_type": "error",
          "ename": "ValueError",
          "evalue": "ignored",
          "traceback": [
            "\u001b[0;31m---------------------------------------------------------------------------\u001b[0m",
            "\u001b[0;31mValueError\u001b[0m                                Traceback (most recent call last)",
            "\u001b[0;32m<ipython-input-44-c302340a2d92>\u001b[0m in \u001b[0;36m<module>\u001b[0;34m()\u001b[0m\n\u001b[0;32m----> 1\u001b[0;31m \u001b[0mcerebro\u001b[0m\u001b[0;34m.\u001b[0m\u001b[0mrun\u001b[0m\u001b[0;34m(\u001b[0m\u001b[0;34m)\u001b[0m\u001b[0;34m\u001b[0m\u001b[0;34m\u001b[0m\u001b[0m\n\u001b[0m",
            "\u001b[0;32m/usr/local/lib/python3.7/dist-packages/backtrader/cerebro.py\u001b[0m in \u001b[0;36mrun\u001b[0;34m(self, **kwargs)\u001b[0m\n\u001b[1;32m   1125\u001b[0m             \u001b[0;31m# let's skip process \"spawning\"\u001b[0m\u001b[0;34m\u001b[0m\u001b[0;34m\u001b[0m\u001b[0;34m\u001b[0m\u001b[0m\n\u001b[1;32m   1126\u001b[0m             \u001b[0;32mfor\u001b[0m \u001b[0miterstrat\u001b[0m \u001b[0;32min\u001b[0m \u001b[0miterstrats\u001b[0m\u001b[0;34m:\u001b[0m\u001b[0;34m\u001b[0m\u001b[0;34m\u001b[0m\u001b[0m\n\u001b[0;32m-> 1127\u001b[0;31m                 \u001b[0mrunstrat\u001b[0m \u001b[0;34m=\u001b[0m \u001b[0mself\u001b[0m\u001b[0;34m.\u001b[0m\u001b[0mrunstrategies\u001b[0m\u001b[0;34m(\u001b[0m\u001b[0miterstrat\u001b[0m\u001b[0;34m)\u001b[0m\u001b[0;34m\u001b[0m\u001b[0;34m\u001b[0m\u001b[0m\n\u001b[0m\u001b[1;32m   1128\u001b[0m                 \u001b[0mself\u001b[0m\u001b[0;34m.\u001b[0m\u001b[0mrunstrats\u001b[0m\u001b[0;34m.\u001b[0m\u001b[0mappend\u001b[0m\u001b[0;34m(\u001b[0m\u001b[0mrunstrat\u001b[0m\u001b[0;34m)\u001b[0m\u001b[0;34m\u001b[0m\u001b[0;34m\u001b[0m\u001b[0m\n\u001b[1;32m   1129\u001b[0m                 \u001b[0;32mif\u001b[0m \u001b[0mself\u001b[0m\u001b[0;34m.\u001b[0m\u001b[0m_dooptimize\u001b[0m\u001b[0;34m:\u001b[0m\u001b[0;34m\u001b[0m\u001b[0;34m\u001b[0m\u001b[0m\n",
            "\u001b[0;32m/usr/local/lib/python3.7/dist-packages/backtrader/cerebro.py\u001b[0m in \u001b[0;36mrunstrategies\u001b[0;34m(self, iterstrat, predata)\u001b[0m\n\u001b[1;32m   1210\u001b[0m                 \u001b[0mdata\u001b[0m\u001b[0;34m.\u001b[0m\u001b[0m_start\u001b[0m\u001b[0;34m(\u001b[0m\u001b[0;34m)\u001b[0m\u001b[0;34m\u001b[0m\u001b[0;34m\u001b[0m\u001b[0m\n\u001b[1;32m   1211\u001b[0m                 \u001b[0;32mif\u001b[0m \u001b[0mself\u001b[0m\u001b[0;34m.\u001b[0m\u001b[0m_dopreload\u001b[0m\u001b[0;34m:\u001b[0m\u001b[0;34m\u001b[0m\u001b[0;34m\u001b[0m\u001b[0m\n\u001b[0;32m-> 1212\u001b[0;31m                     \u001b[0mdata\u001b[0m\u001b[0;34m.\u001b[0m\u001b[0mpreload\u001b[0m\u001b[0;34m(\u001b[0m\u001b[0;34m)\u001b[0m\u001b[0;34m\u001b[0m\u001b[0;34m\u001b[0m\u001b[0m\n\u001b[0m\u001b[1;32m   1213\u001b[0m \u001b[0;34m\u001b[0m\u001b[0m\n\u001b[1;32m   1214\u001b[0m         \u001b[0;32mfor\u001b[0m \u001b[0mstratcls\u001b[0m\u001b[0;34m,\u001b[0m \u001b[0msargs\u001b[0m\u001b[0;34m,\u001b[0m \u001b[0mskwargs\u001b[0m \u001b[0;32min\u001b[0m \u001b[0miterstrat\u001b[0m\u001b[0;34m:\u001b[0m\u001b[0;34m\u001b[0m\u001b[0;34m\u001b[0m\u001b[0m\n",
            "\u001b[0;32m/usr/local/lib/python3.7/dist-packages/backtrader/feed.py\u001b[0m in \u001b[0;36mpreload\u001b[0;34m(self)\u001b[0m\n\u001b[1;32m    686\u001b[0m \u001b[0;34m\u001b[0m\u001b[0m\n\u001b[1;32m    687\u001b[0m     \u001b[0;32mdef\u001b[0m \u001b[0mpreload\u001b[0m\u001b[0;34m(\u001b[0m\u001b[0mself\u001b[0m\u001b[0;34m)\u001b[0m\u001b[0;34m:\u001b[0m\u001b[0;34m\u001b[0m\u001b[0;34m\u001b[0m\u001b[0m\n\u001b[0;32m--> 688\u001b[0;31m         \u001b[0;32mwhile\u001b[0m \u001b[0mself\u001b[0m\u001b[0;34m.\u001b[0m\u001b[0mload\u001b[0m\u001b[0;34m(\u001b[0m\u001b[0;34m)\u001b[0m\u001b[0;34m:\u001b[0m\u001b[0;34m\u001b[0m\u001b[0;34m\u001b[0m\u001b[0m\n\u001b[0m\u001b[1;32m    689\u001b[0m             \u001b[0;32mpass\u001b[0m\u001b[0;34m\u001b[0m\u001b[0;34m\u001b[0m\u001b[0m\n\u001b[1;32m    690\u001b[0m \u001b[0;34m\u001b[0m\u001b[0m\n",
            "\u001b[0;32m/usr/local/lib/python3.7/dist-packages/backtrader/feed.py\u001b[0m in \u001b[0;36mload\u001b[0;34m(self)\u001b[0m\n\u001b[1;32m    477\u001b[0m \u001b[0;34m\u001b[0m\u001b[0m\n\u001b[1;32m    478\u001b[0m             \u001b[0;32mif\u001b[0m \u001b[0;32mnot\u001b[0m \u001b[0mself\u001b[0m\u001b[0;34m.\u001b[0m\u001b[0m_fromstack\u001b[0m\u001b[0;34m(\u001b[0m\u001b[0mstash\u001b[0m\u001b[0;34m=\u001b[0m\u001b[0;32mTrue\u001b[0m\u001b[0;34m)\u001b[0m\u001b[0;34m:\u001b[0m\u001b[0;34m\u001b[0m\u001b[0;34m\u001b[0m\u001b[0m\n\u001b[0;32m--> 479\u001b[0;31m                 \u001b[0m_loadret\u001b[0m \u001b[0;34m=\u001b[0m \u001b[0mself\u001b[0m\u001b[0;34m.\u001b[0m\u001b[0m_load\u001b[0m\u001b[0;34m(\u001b[0m\u001b[0;34m)\u001b[0m\u001b[0;34m\u001b[0m\u001b[0;34m\u001b[0m\u001b[0m\n\u001b[0m\u001b[1;32m    480\u001b[0m                 \u001b[0;32mif\u001b[0m \u001b[0;32mnot\u001b[0m \u001b[0m_loadret\u001b[0m\u001b[0;34m:\u001b[0m  \u001b[0;31m# no bar use force to make sure in exactbars\u001b[0m\u001b[0;34m\u001b[0m\u001b[0;34m\u001b[0m\u001b[0m\n\u001b[1;32m    481\u001b[0m                     \u001b[0;31m# the pointer is undone this covers especially (but not\u001b[0m\u001b[0;34m\u001b[0m\u001b[0;34m\u001b[0m\u001b[0;34m\u001b[0m\u001b[0m\n",
            "\u001b[0;32m/usr/local/lib/python3.7/dist-packages/backtrader/feed.py\u001b[0m in \u001b[0;36m_load\u001b[0;34m(self)\u001b[0m\n\u001b[1;32m    708\u001b[0m         \u001b[0mline\u001b[0m \u001b[0;34m=\u001b[0m \u001b[0mline\u001b[0m\u001b[0;34m.\u001b[0m\u001b[0mrstrip\u001b[0m\u001b[0;34m(\u001b[0m\u001b[0;34m'\\n'\u001b[0m\u001b[0;34m)\u001b[0m\u001b[0;34m\u001b[0m\u001b[0;34m\u001b[0m\u001b[0m\n\u001b[1;32m    709\u001b[0m         \u001b[0mlinetokens\u001b[0m \u001b[0;34m=\u001b[0m \u001b[0mline\u001b[0m\u001b[0;34m.\u001b[0m\u001b[0msplit\u001b[0m\u001b[0;34m(\u001b[0m\u001b[0mself\u001b[0m\u001b[0;34m.\u001b[0m\u001b[0mseparator\u001b[0m\u001b[0;34m)\u001b[0m\u001b[0;34m\u001b[0m\u001b[0;34m\u001b[0m\u001b[0m\n\u001b[0;32m--> 710\u001b[0;31m         \u001b[0;32mreturn\u001b[0m \u001b[0mself\u001b[0m\u001b[0;34m.\u001b[0m\u001b[0m_loadline\u001b[0m\u001b[0;34m(\u001b[0m\u001b[0mlinetokens\u001b[0m\u001b[0;34m)\u001b[0m\u001b[0;34m\u001b[0m\u001b[0;34m\u001b[0m\u001b[0m\n\u001b[0m\u001b[1;32m    711\u001b[0m \u001b[0;34m\u001b[0m\u001b[0m\n\u001b[1;32m    712\u001b[0m     \u001b[0;32mdef\u001b[0m \u001b[0m_getnextline\u001b[0m\u001b[0;34m(\u001b[0m\u001b[0mself\u001b[0m\u001b[0;34m)\u001b[0m\u001b[0;34m:\u001b[0m\u001b[0;34m\u001b[0m\u001b[0;34m\u001b[0m\u001b[0m\n",
            "\u001b[0;32m/usr/local/lib/python3.7/dist-packages/backtrader/feeds/csvgeneric.py\u001b[0m in \u001b[0;36m_loadline\u001b[0;34m(self, linetokens)\u001b[0m\n\u001b[1;32m    112\u001b[0m                 \u001b[0mdtformat\u001b[0m \u001b[0;34m+=\u001b[0m \u001b[0;34m'T'\u001b[0m \u001b[0;34m+\u001b[0m \u001b[0mself\u001b[0m\u001b[0;34m.\u001b[0m\u001b[0mp\u001b[0m\u001b[0;34m.\u001b[0m\u001b[0mtmformat\u001b[0m\u001b[0;34m\u001b[0m\u001b[0;34m\u001b[0m\u001b[0m\n\u001b[1;32m    113\u001b[0m \u001b[0;34m\u001b[0m\u001b[0m\n\u001b[0;32m--> 114\u001b[0;31m             \u001b[0mdt\u001b[0m \u001b[0;34m=\u001b[0m \u001b[0mdatetime\u001b[0m\u001b[0;34m.\u001b[0m\u001b[0mstrptime\u001b[0m\u001b[0;34m(\u001b[0m\u001b[0mdtfield\u001b[0m\u001b[0;34m,\u001b[0m \u001b[0mdtformat\u001b[0m\u001b[0;34m)\u001b[0m\u001b[0;34m\u001b[0m\u001b[0;34m\u001b[0m\u001b[0m\n\u001b[0m\u001b[1;32m    115\u001b[0m         \u001b[0;32melse\u001b[0m\u001b[0;34m:\u001b[0m\u001b[0;34m\u001b[0m\u001b[0;34m\u001b[0m\u001b[0m\n\u001b[1;32m    116\u001b[0m             \u001b[0mdt\u001b[0m \u001b[0;34m=\u001b[0m \u001b[0mself\u001b[0m\u001b[0;34m.\u001b[0m\u001b[0m_dtconvert\u001b[0m\u001b[0;34m(\u001b[0m\u001b[0mdtfield\u001b[0m\u001b[0;34m)\u001b[0m\u001b[0;34m\u001b[0m\u001b[0;34m\u001b[0m\u001b[0m\n",
            "\u001b[0;32m/usr/lib/python3.7/_strptime.py\u001b[0m in \u001b[0;36m_strptime_datetime\u001b[0;34m(cls, data_string, format)\u001b[0m\n\u001b[1;32m    575\u001b[0m     \"\"\"Return a class cls instance based on the input string and the\n\u001b[1;32m    576\u001b[0m     format string.\"\"\"\n\u001b[0;32m--> 577\u001b[0;31m     \u001b[0mtt\u001b[0m\u001b[0;34m,\u001b[0m \u001b[0mfraction\u001b[0m\u001b[0;34m,\u001b[0m \u001b[0mgmtoff_fraction\u001b[0m \u001b[0;34m=\u001b[0m \u001b[0m_strptime\u001b[0m\u001b[0;34m(\u001b[0m\u001b[0mdata_string\u001b[0m\u001b[0;34m,\u001b[0m \u001b[0mformat\u001b[0m\u001b[0;34m)\u001b[0m\u001b[0;34m\u001b[0m\u001b[0;34m\u001b[0m\u001b[0m\n\u001b[0m\u001b[1;32m    578\u001b[0m     \u001b[0mtzname\u001b[0m\u001b[0;34m,\u001b[0m \u001b[0mgmtoff\u001b[0m \u001b[0;34m=\u001b[0m \u001b[0mtt\u001b[0m\u001b[0;34m[\u001b[0m\u001b[0;34m-\u001b[0m\u001b[0;36m2\u001b[0m\u001b[0;34m:\u001b[0m\u001b[0;34m]\u001b[0m\u001b[0;34m\u001b[0m\u001b[0;34m\u001b[0m\u001b[0m\n\u001b[1;32m    579\u001b[0m     \u001b[0margs\u001b[0m \u001b[0;34m=\u001b[0m \u001b[0mtt\u001b[0m\u001b[0;34m[\u001b[0m\u001b[0;34m:\u001b[0m\u001b[0;36m6\u001b[0m\u001b[0;34m]\u001b[0m \u001b[0;34m+\u001b[0m \u001b[0;34m(\u001b[0m\u001b[0mfraction\u001b[0m\u001b[0;34m,\u001b[0m\u001b[0;34m)\u001b[0m\u001b[0;34m\u001b[0m\u001b[0;34m\u001b[0m\u001b[0m\n",
            "\u001b[0;32m/usr/lib/python3.7/_strptime.py\u001b[0m in \u001b[0;36m_strptime\u001b[0;34m(data_string, format)\u001b[0m\n\u001b[1;32m    357\u001b[0m     \u001b[0;32mif\u001b[0m \u001b[0;32mnot\u001b[0m \u001b[0mfound\u001b[0m\u001b[0;34m:\u001b[0m\u001b[0;34m\u001b[0m\u001b[0;34m\u001b[0m\u001b[0m\n\u001b[1;32m    358\u001b[0m         raise ValueError(\"time data %r does not match format %r\" %\n\u001b[0;32m--> 359\u001b[0;31m                          (data_string, format))\n\u001b[0m\u001b[1;32m    360\u001b[0m     \u001b[0;32mif\u001b[0m \u001b[0mlen\u001b[0m\u001b[0;34m(\u001b[0m\u001b[0mdata_string\u001b[0m\u001b[0;34m)\u001b[0m \u001b[0;34m!=\u001b[0m \u001b[0mfound\u001b[0m\u001b[0;34m.\u001b[0m\u001b[0mend\u001b[0m\u001b[0;34m(\u001b[0m\u001b[0;34m)\u001b[0m\u001b[0;34m:\u001b[0m\u001b[0;34m\u001b[0m\u001b[0;34m\u001b[0m\u001b[0m\n\u001b[1;32m    361\u001b[0m         raise ValueError(\"unconverted data remains: %s\" %\n",
            "\u001b[0;31mValueError\u001b[0m: time data '2022-03-02 00:00:00.502' does not match format '%Y-%m-%d %H.%M.%S.%f'"
          ]
        }
      ]
    }
  ]
}