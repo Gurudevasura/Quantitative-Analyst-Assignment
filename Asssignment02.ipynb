{
  "nbformat": 4,
  "nbformat_minor": 0,
  "metadata": {
    "colab": {
      "name": "Asssignment02.ipynb",
      "provenance": [],
      "collapsed_sections": [],
      "mount_file_id": "https://github.com/Gurudevasura/Quantitative-Analyst-Assignment/blob/main/Asssignment02.ipynb",
      "authorship_tag": "ABX9TyMjSPDdt61Ht7Q7FAJ4M8c2",
      "include_colab_link": true
    },
    "kernelspec": {
      "name": "python3",
      "display_name": "Python 3"
    },
    "language_info": {
      "name": "python"
    }
  },
  "cells": [
    {
      "cell_type": "markdown",
      "metadata": {
        "id": "view-in-github",
        "colab_type": "text"
      },
      "source": [
        "<a href=\"https://colab.research.google.com/github/Gurudevasura/Quantitative-Analyst-Assignment/blob/main/Asssignment02.ipynb\" target=\"_parent\"><img src=\"https://colab.research.google.com/assets/colab-badge.svg\" alt=\"Open In Colab\"/></a>"
      ]
    },
    {
      "cell_type": "code",
      "execution_count": 1,
      "metadata": {
        "id": "DM5XZX9NoO1e",
        "colab": {
          "base_uri": "https://localhost:8080/"
        },
        "outputId": "1fe225b0-21d8-4b64-c48e-a0ab350c5eec"
      },
      "outputs": [
        {
          "output_type": "stream",
          "name": "stdout",
          "text": [
            "Collecting backtrader\n",
            "  Downloading backtrader-1.9.76.123-py2.py3-none-any.whl (410 kB)\n",
            "\u001b[?25l\r\u001b[K     |▉                               | 10 kB 24.3 MB/s eta 0:00:01\r\u001b[K     |█▋                              | 20 kB 14.6 MB/s eta 0:00:01\r\u001b[K     |██▍                             | 30 kB 10.6 MB/s eta 0:00:01\r\u001b[K     |███▏                            | 40 kB 9.1 MB/s eta 0:00:01\r\u001b[K     |████                            | 51 kB 4.8 MB/s eta 0:00:01\r\u001b[K     |████▉                           | 61 kB 5.6 MB/s eta 0:00:01\r\u001b[K     |█████▋                          | 71 kB 5.6 MB/s eta 0:00:01\r\u001b[K     |██████▍                         | 81 kB 5.5 MB/s eta 0:00:01\r\u001b[K     |███████▏                        | 92 kB 6.1 MB/s eta 0:00:01\r\u001b[K     |████████                        | 102 kB 5.2 MB/s eta 0:00:01\r\u001b[K     |████████▉                       | 112 kB 5.2 MB/s eta 0:00:01\r\u001b[K     |█████████▋                      | 122 kB 5.2 MB/s eta 0:00:01\r\u001b[K     |██████████▍                     | 133 kB 5.2 MB/s eta 0:00:01\r\u001b[K     |███████████▏                    | 143 kB 5.2 MB/s eta 0:00:01\r\u001b[K     |████████████                    | 153 kB 5.2 MB/s eta 0:00:01\r\u001b[K     |████████████▉                   | 163 kB 5.2 MB/s eta 0:00:01\r\u001b[K     |█████████████▋                  | 174 kB 5.2 MB/s eta 0:00:01\r\u001b[K     |██████████████▍                 | 184 kB 5.2 MB/s eta 0:00:01\r\u001b[K     |███████████████▏                | 194 kB 5.2 MB/s eta 0:00:01\r\u001b[K     |████████████████                | 204 kB 5.2 MB/s eta 0:00:01\r\u001b[K     |████████████████▉               | 215 kB 5.2 MB/s eta 0:00:01\r\u001b[K     |█████████████████▋              | 225 kB 5.2 MB/s eta 0:00:01\r\u001b[K     |██████████████████▍             | 235 kB 5.2 MB/s eta 0:00:01\r\u001b[K     |███████████████████▏            | 245 kB 5.2 MB/s eta 0:00:01\r\u001b[K     |████████████████████            | 256 kB 5.2 MB/s eta 0:00:01\r\u001b[K     |████████████████████▊           | 266 kB 5.2 MB/s eta 0:00:01\r\u001b[K     |█████████████████████▋          | 276 kB 5.2 MB/s eta 0:00:01\r\u001b[K     |██████████████████████▍         | 286 kB 5.2 MB/s eta 0:00:01\r\u001b[K     |███████████████████████▏        | 296 kB 5.2 MB/s eta 0:00:01\r\u001b[K     |████████████████████████        | 307 kB 5.2 MB/s eta 0:00:01\r\u001b[K     |████████████████████████▊       | 317 kB 5.2 MB/s eta 0:00:01\r\u001b[K     |█████████████████████████▋      | 327 kB 5.2 MB/s eta 0:00:01\r\u001b[K     |██████████████████████████▍     | 337 kB 5.2 MB/s eta 0:00:01\r\u001b[K     |███████████████████████████▏    | 348 kB 5.2 MB/s eta 0:00:01\r\u001b[K     |████████████████████████████    | 358 kB 5.2 MB/s eta 0:00:01\r\u001b[K     |████████████████████████████▊   | 368 kB 5.2 MB/s eta 0:00:01\r\u001b[K     |█████████████████████████████▋  | 378 kB 5.2 MB/s eta 0:00:01\r\u001b[K     |██████████████████████████████▍ | 389 kB 5.2 MB/s eta 0:00:01\r\u001b[K     |███████████████████████████████▏| 399 kB 5.2 MB/s eta 0:00:01\r\u001b[K     |████████████████████████████████| 409 kB 5.2 MB/s eta 0:00:01\r\u001b[K     |████████████████████████████████| 410 kB 5.2 MB/s \n",
            "\u001b[?25hInstalling collected packages: backtrader\n",
            "Successfully installed backtrader-1.9.76.123\n"
          ]
        }
      ],
      "source": [
        "!pip install backtrader"
      ]
    },
    {
      "cell_type": "code",
      "source": [
        "import backtrader as bt\n",
        "import backtrader.analyzers as btanalyzers\n",
        "import matplotlib.pyplot as plt\n",
        "from datetime import datetime\n",
        "import time\n",
        "import backtrader.feeds as btfeeds\n",
        "import backtrader.trade as btt\n",
        "import pandas as pd"
      ],
      "metadata": {
        "id": "nZ5sjqDDosL4"
      },
      "execution_count": 39,
      "outputs": []
    },
    {
      "cell_type": "code",
      "source": [
        "class BidAskCSV(btfeeds.GenericCSVData):\n",
        "    linesoverride = True\n",
        "    lines = ('bid', 'ask', 'datetime', 'Traded_Price', 'Traded_Size')\n",
        "    params = (('datetime', 7), ('bid', 2), ('ask', 3), ('Traded_Price', 3), ('Traded_Size', 2))\n",
        "\n",
        "    def __init__(self):\n",
        "        super(BidAskCSV, self).__init__()"
      ],
      "metadata": {
        "id": "OgP2n5J9l3Ts"
      },
      "execution_count": 46,
      "outputs": []
    },
    {
      "cell_type": "code",
      "source": [
        "cerebro = bt.Cerebro()"
      ],
      "metadata": {
        "id": "Mh0dzgSJ48CR"
      },
      "execution_count": 47,
      "outputs": []
    },
    {
      "cell_type": "code",
      "source": [
        "#feed csv data\n",
        "data = bt.feeds.GenericCSVData(\n",
        "    dataname='/content/drive/MyDrive/Colab Notebooks/worth2.csv',\n",
        "    \n",
        "    nullvalue=0.0,\n",
        "    dtformat=(\"%Y-%m-%dT%H:%M:%S.%f\"),\n",
        "    datetime=7,\n",
        "    ID = 1,\n",
        "    Traded_Price = 2,\n",
        "    Traded_Size= 3,\n",
        "    Traded_Notional= 4,\n",
        "    volume = -1, \n",
        "    openinterest=-1,\n",
        "    reverse=False)\n",
        "\n",
        "# Add the Data Feed to Cerebro\n",
        "cerebro.adddata(data) \n",
        "\n"
      ],
      "metadata": {
        "colab": {
          "base_uri": "https://localhost:8080/"
        },
        "id": "Uhs9qZkb9VIk",
        "outputId": "a6c44c8f-9794-4641-a703-c4e6b168963f"
      },
      "execution_count": 45,
      "outputs": [
        {
          "output_type": "execute_result",
          "data": {
            "text/plain": [
              "<backtrader.feeds.csvgeneric.GenericCSVData at 0x7fa71d0fa610>"
            ]
          },
          "metadata": {},
          "execution_count": 45
        }
      ]
    },
    {
      "cell_type": "code",
      "source": [
        "cerebro.broker.setcommission(commission=0.0, margin=5000.0, mult=10.0, name=BTCUSDT.)"
      ],
      "metadata": {
        "id": "GRV9nONQnzV7"
      },
      "execution_count": null,
      "outputs": []
    },
    {
      "cell_type": "code",
      "source": [
        "cerebro.addstrategy(BidAskCSV)"
      ],
      "metadata": {
        "colab": {
          "base_uri": "https://localhost:8080/"
        },
        "id": "daWnlwFc_PlU",
        "outputId": "021505cd-0893-44e4-abbb-3755f159c71e"
      },
      "execution_count": 48,
      "outputs": [
        {
          "output_type": "execute_result",
          "data": {
            "text/plain": [
              "0"
            ]
          },
          "metadata": {},
          "execution_count": 48
        }
      ]
    },
    {
      "cell_type": "code",
      "source": [
        "cerebro.broker.setcash(100000.0)\n",
        "#final portfolio value\n",
        "print('Final Portfolio Value: %.2f' % cerebro.broker.getvalue())"
      ],
      "metadata": {
        "id": "SZT2M2Lr_5Kz"
      },
      "execution_count": 30,
      "outputs": []
    },
    {
      "cell_type": "code",
      "source": [
        "cerebro.addsizer(bt.sizers.PercentSizer, percents = 10)"
      ],
      "metadata": {
        "id": "Q-QK2fFV__TW"
      },
      "execution_count": 31,
      "outputs": []
    },
    {
      "cell_type": "code",
      "source": [
        "cerebro.run()"
      ],
      "metadata": {
        "id": "lAqtcJzXBIkh"
      },
      "execution_count": null,
      "outputs": []
    }
  ]
}